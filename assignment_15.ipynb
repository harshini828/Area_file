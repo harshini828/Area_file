{
 "cells": [
  {
   "cell_type": "code",
   "execution_count": null,
   "id": "4ed39844-d6f6-4b68-85d3-faa1d0110391",
   "metadata": {},
   "outputs": [],
   "source": [
    "# q1) Find the number of lines\n",
    "# q2) alignment\n",
    "# q3) starting with From\n",
    "# q4) Remove the /n at the end of the line\n",
    "# q5) extract the email id\n",
    "# q6) unique email ids"
   ]
  },
  {
   "cell_type": "code",
   "execution_count": null,
   "id": "e7c6779d-527a-4e4f-918b-6cbcf92536f0",
   "metadata": {},
   "outputs": [],
   "source": [
    "file_path1=r\"mbox-short.txt\"\n",
    "file1=open(file_path1,mode='r',encoding='utf-8-sig')\n",
    "count=0\n",
    "for i in file1:\n",
    "    count=count+1\n",
    "print(count)"
   ]
  },
  {
   "cell_type": "code",
   "execution_count": null,
   "id": "87e5ef84-cd64-414a-a0b7-11e91f39abf0",
   "metadata": {},
   "outputs": [],
   "source": [
    "file_path1=r\"mbox-short.txt\"\n",
    "file1=open(file_path1,mode='r',encoding='utf-8-sig')\n",
    "\n",
    "for index,line in enumerate(file1):\n",
    "    print(index,line)"
   ]
  },
  {
   "cell_type": "code",
   "execution_count": null,
   "id": "0f2c6575-b266-472b-be0f-2c8bffac5882",
   "metadata": {},
   "outputs": [],
   "source": [
    "file_path1=r\"mbox-short.txt\"\n",
    "file1=open(file_path1,mode='r',encoding='utf-8-sig')\n",
    "for i in file1:\n",
    "    print(i.lstrip())"
   ]
  },
  {
   "cell_type": "code",
   "execution_count": 14,
   "id": "35ce87f7-1ce0-4d20-8782-97855822cc41",
   "metadata": {},
   "outputs": [
    {
     "name": "stdout",
     "output_type": "stream",
     "text": [
      "54\n"
     ]
    }
   ],
   "source": [
    "file_path1=r\"mbox-short.txt\"\n",
    "file1=open(file_path1,mode='r',encoding='utf-8-sig')\n",
    "count=0\n",
    "for i in file1:\n",
    "    if i.startswith('From'):\n",
    "        count=count+1\n",
    "print(count)"
   ]
  },
  {
   "cell_type": "code",
   "execution_count": 8,
   "id": "af8637b4-a9b4-415a-b516-873f3f12df8e",
   "metadata": {},
   "outputs": [
    {
     "name": "stdout",
     "output_type": "stream",
     "text": [
      "336\n"
     ]
    }
   ],
   "source": [
    "file_path1=r\"mbox-short.txt\"\n",
    "file1=open(file_path1,mode='r',encoding='utf-8-sig')\n",
    "count=0\n",
    "for i in file1:\n",
    "    if '@' in i:\n",
    "        count=count+1\n",
    "print(count)"
   ]
  },
  {
   "cell_type": "code",
   "execution_count": null,
   "id": "f226cfac-f5f1-4627-98ed-f599737e20ed",
   "metadata": {},
   "outputs": [],
   "source": [
    "with open('mbox-short.txt','r') as f:\n",
    "    file=f.read()\n",
    "s=file.split()\n",
    "s1=[]\n",
    "for i in s:\n",
    "    if '@' in i:\n",
    "        s1.append(i)\n",
    "\n",
    "s1"
   ]
  },
  {
   "cell_type": "code",
   "execution_count": null,
   "id": "7c67303f-d695-4f47-ab24-4bd8ab9035b2",
   "metadata": {},
   "outputs": [],
   "source": [
    "## with open('mbox-short.txt','r') as f:\n",
    "    file=f.read()\n",
    "s13=file.split()\n",
    "s12=[]\n",
    "for i in s:\n",
    "    if '@' in i:\n",
    "        s12.append(i)\n",
    "\n",
    "su=set(s12)\n",
    "print(su)"
   ]
  },
  {
   "cell_type": "code",
   "execution_count": null,
   "id": "5bb1e659-8ff2-4679-9017-1472112e0a55",
   "metadata": {},
   "outputs": [],
   "source": [
    "d123=[]\n",
    "for i in s12:\n",
    "    if i not in d123:\n",
    "        d123.append(i)\n",
    "\n",
    "d123\n"
   ]
  },
  {
   "cell_type": "code",
   "execution_count": null,
   "id": "8cfc8ad8-c81b-4cfb-928f-f0d0e50f0b60",
   "metadata": {},
   "outputs": [],
   "source": [
    "with open('emails.txt','r') as file:\n",
    "    f=file.read()\n",
    "r=f.split(';')\n",
    "for i in range(len(r)):\n",
    "    name=r[i].split()\n",
    "    firstname=name[0]\n",
    "    secondname=name[1]\n",
    "    email=name[2]\n",
    " \n",
    "    print(f\"fisrtname:{firstname}\")\n",
    "    print(f\"secondname:{secondname}\")\n",
    "    print(f\"email:{email}\")\n",
    "   \n",
    "   \n"
   ]
  },
  {
   "cell_type": "code",
   "execution_count": null,
   "id": "65d8058d-f58a-41dc-8c67-b1012de5d5a3",
   "metadata": {},
   "outputs": [],
   "source": []
  }
 ],
 "metadata": {
  "kernelspec": {
   "display_name": "Python 3 (ipykernel)",
   "language": "python",
   "name": "python3"
  },
  "language_info": {
   "codemirror_mode": {
    "name": "ipython",
    "version": 3
   },
   "file_extension": ".py",
   "mimetype": "text/x-python",
   "name": "python",
   "nbconvert_exporter": "python",
   "pygments_lexer": "ipython3",
   "version": "3.11.7"
  }
 },
 "nbformat": 4,
 "nbformat_minor": 5
}
